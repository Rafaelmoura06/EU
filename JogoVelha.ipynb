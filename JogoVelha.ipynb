{
  "nbformat": 4,
  "nbformat_minor": 0,
  "metadata": {
    "colab": {
      "provenance": [],
      "authorship_tag": "ABX9TyN3qtAzvHu2ZkYr7KxheteR",
      "include_colab_link": true
    },
    "kernelspec": {
      "name": "python3",
      "display_name": "Python 3"
    },
    "language_info": {
      "name": "python"
    }
  },
  "cells": [
    {
      "cell_type": "markdown",
      "metadata": {
        "id": "view-in-github",
        "colab_type": "text"
      },
      "source": [
        "<a href=\"https://colab.research.google.com/github/Rafaelmoura06/EU/blob/main/JogoVelha.ipynb\" target=\"_parent\"><img src=\"https://colab.research.google.com/assets/colab-badge.svg\" alt=\"Open In Colab\"/></a>"
      ]
    },
    {
      "cell_type": "code",
      "execution_count": null,
      "metadata": {
        "colab": {
          "base_uri": "https://localhost:8080/"
        },
        "id": "ZbOst3Wdz3H5",
        "outputId": "6183aaef-4908-4a2b-c7fe-2d4ca01ada34"
      },
      "outputs": [
        {
          "name": "stdout",
          "output_type": "stream",
          "text": [
            "\n",
            "\n",
            "  |   |  \n",
            "--+---+--\n",
            "  |   |  \n",
            "--+---+--\n",
            "  |   |  \n",
            "\n",
            "\n",
            "Vez do jogador X\n",
            "Entrada inválida! Use apenas números de 0 a 2.\n",
            "\n",
            "\n",
            "  |   |  \n",
            "--+---+--\n",
            "  |   |  \n",
            "--+---+--\n",
            "  |   |  \n",
            "\n",
            "\n",
            "Vez do jogador X\n",
            "Escolha a linha (0, 1, 2): 0\n"
          ]
        }
      ],
      "source": [
        "   def criar_tabuleiro():\n",
        "    return [[\" \" for _ in range(3)] for _ in range(3)]\n",
        "\n",
        "def exibir_tabuleiro(tabuleiro):\n",
        "    print(\"\\n\")\n",
        "    for i in range(3):\n",
        "        print(\" | \".join(tabuleiro[i]))\n",
        "        if i < 2:\n",
        "            print(\"--+---+--\")\n",
        "    print(\"\\n\")\n",
        "\n",
        "def verificar_vitoria(tabuleiro, jogador):\n",
        "\n",
        "    for i in range(3):\n",
        "        if all(tabuleiro[i][j] == jogador for j in range(3)) or \\\n",
        "           all(tabuleiro[j][i] == jogador for j in range(3)):\n",
        "            return True\n",
        "\n",
        "    if all(tabuleiro[i][i] == jogador for i in range(3)) or \\\n",
        "       all(tabuleiro[i][2 - i] == jogador for i in range(3)):\n",
        "        return True\n",
        "    return False\n",
        "\n",
        "def verificar_empate(tabuleiro):\n",
        "    return all(tabuleiro[i][j] != \" \" for i in range(3) for j in range(3))\n",
        "\n",
        "def jogada_valida(tabuleiro, linha, coluna):\n",
        "    return 0 <= linha < 3 and 0 <= coluna < 3 and tabuleiro[linha][coluna] == \" \"\n",
        "\n",
        "def jogar():\n",
        "    tabuleiro = criar_tabuleiro()\n",
        "    jogador_atual = \"X\"\n",
        "\n",
        "    while True:\n",
        "        exibir_tabuleiro(tabuleiro)\n",
        "        print(f\"Vez do jogador {jogador_atual}\")\n",
        "\n",
        "        try:\n",
        "            linha = int(input(\"Escolha a linha (0, 1, 2): \"))\n",
        "            coluna = int(input(\"Escolha a coluna (0, 1, 2): \"))\n",
        "        except ValueError:\n",
        "            print(\"Entrada inválida! Use apenas números de 0 a 2.\")\n",
        "            continue\n",
        "\n",
        "        if not jogada_valida(tabuleiro, linha, coluna):\n",
        "            print(\"Jogada inválida. Tente novamente.\")\n",
        "            continue\n",
        "\n",
        "        tabuleiro[linha][coluna] = jogador_atual\n",
        "\n",
        "        if verificar_vitoria(tabuleiro, jogador_atual):\n",
        "            exibir_tabuleiro(tabuleiro)\n",
        "            print(f\"Parabéns! Jogador {jogador_atual} venceu!\")\n",
        "            break\n",
        "\n",
        "        if verificar_empate(tabuleiro):\n",
        "            exibir_tabuleiro(tabuleiro)\n",
        "            print(\"Empate!\")\n",
        "            break\n",
        "\n",
        "        jogador_atual = \"O\" if jogador_atual == \"X\" else \"X\"\n",
        "\n",
        "if __name__ == \"__main__\":\n",
        "    jogar()\n"
      ]
    }
  ]
}